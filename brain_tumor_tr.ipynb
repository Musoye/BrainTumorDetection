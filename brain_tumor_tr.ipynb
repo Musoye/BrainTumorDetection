{
  "nbformat": 4,
  "nbformat_minor": 0,
  "metadata": {
    "colab": {
      "provenance": []
    },
    "kernelspec": {
      "name": "python3",
      "display_name": "Python 3"
    },
    "language_info": {
      "name": "python"
    }
  },
  "cells": [
    {
      "cell_type": "code",
      "execution_count": 1,
      "metadata": {
        "colab": {
          "base_uri": "https://localhost:8080/"
        },
        "id": "tvs5kmZ12GJ6",
        "outputId": "c24ea8f9-808e-4c8e-deb8-5021d0ee5f0e"
      },
      "outputs": [
        {
          "output_type": "stream",
          "name": "stdout",
          "text": [
            "Cloning into 'BrainTumorDetection'...\n",
            "remote: Enumerating objects: 21, done.\u001b[K\n",
            "remote: Counting objects: 100% (21/21), done.\u001b[K\n",
            "remote: Compressing objects: 100% (14/14), done.\u001b[K\n",
            "remote: Total 21 (delta 9), reused 19 (delta 7), pack-reused 0 (from 0)\u001b[K\n",
            "Receiving objects: 100% (21/21), 4.25 KiB | 4.25 MiB/s, done.\n",
            "Resolving deltas: 100% (9/9), done.\n"
          ]
        }
      ],
      "source": [
        "!git clone https://github.com/Musoye/BrainTumorDetection.git"
      ]
    },
    {
      "cell_type": "code",
      "source": [
        "%cd BrainTumorDetection"
      ],
      "metadata": {
        "colab": {
          "base_uri": "https://localhost:8080/"
        },
        "id": "_0xm4-Fq2art",
        "outputId": "5f6016ad-40b0-42cd-bc8f-9e884795ffd7"
      },
      "execution_count": 2,
      "outputs": [
        {
          "output_type": "stream",
          "name": "stdout",
          "text": [
            "/content/BrainTumorDetection\n"
          ]
        }
      ]
    },
    {
      "cell_type": "code",
      "source": [
        "!ls"
      ],
      "metadata": {
        "colab": {
          "base_uri": "https://localhost:8080/"
        },
        "id": "oZ9TzGGo2lgU",
        "outputId": "7b9a0f67-6f09-4562-8c43-107b51f58468"
      },
      "execution_count": 3,
      "outputs": [
        {
          "output_type": "stream",
          "name": "stdout",
          "text": [
            "evaluate.py  model.py  preparation.py  resnet.py  retrieve.py  setting.py\n"
          ]
        }
      ]
    },
    {
      "cell_type": "code",
      "source": [
        "%run -i evaluate.py\n",
        "%run -i model.py\n",
        "%run -i preparation.py\n",
        "%run -i resnet.py\n",
        "%run -i retrieve.py\n",
        "%run -i setting.py\n"
      ],
      "metadata": {
        "id": "8NGXli4p4O9F"
      },
      "execution_count": 4,
      "outputs": []
    },
    {
      "cell_type": "code",
      "source": [
        "from google.colab import files\n",
        "\n",
        "upload = files.upload()"
      ],
      "metadata": {
        "colab": {
          "base_uri": "https://localhost:8080/",
          "height": 73
        },
        "id": "HMn3ITZY5MCE",
        "outputId": "5ca4d011-7384-4d2c-c9b7-9186e9e1d7be"
      },
      "execution_count": 5,
      "outputs": [
        {
          "output_type": "display_data",
          "data": {
            "text/plain": [
              "<IPython.core.display.HTML object>"
            ],
            "text/html": [
              "\n",
              "     <input type=\"file\" id=\"files-0c5f5bff-8bab-4e72-8a23-e1f63fd61c7a\" name=\"files[]\" multiple disabled\n",
              "        style=\"border:none\" />\n",
              "     <output id=\"result-0c5f5bff-8bab-4e72-8a23-e1f63fd61c7a\">\n",
              "      Upload widget is only available when the cell has been executed in the\n",
              "      current browser session. Please rerun this cell to enable.\n",
              "      </output>\n",
              "      <script>// Copyright 2017 Google LLC\n",
              "//\n",
              "// Licensed under the Apache License, Version 2.0 (the \"License\");\n",
              "// you may not use this file except in compliance with the License.\n",
              "// You may obtain a copy of the License at\n",
              "//\n",
              "//      http://www.apache.org/licenses/LICENSE-2.0\n",
              "//\n",
              "// Unless required by applicable law or agreed to in writing, software\n",
              "// distributed under the License is distributed on an \"AS IS\" BASIS,\n",
              "// WITHOUT WARRANTIES OR CONDITIONS OF ANY KIND, either express or implied.\n",
              "// See the License for the specific language governing permissions and\n",
              "// limitations under the License.\n",
              "\n",
              "/**\n",
              " * @fileoverview Helpers for google.colab Python module.\n",
              " */\n",
              "(function(scope) {\n",
              "function span(text, styleAttributes = {}) {\n",
              "  const element = document.createElement('span');\n",
              "  element.textContent = text;\n",
              "  for (const key of Object.keys(styleAttributes)) {\n",
              "    element.style[key] = styleAttributes[key];\n",
              "  }\n",
              "  return element;\n",
              "}\n",
              "\n",
              "// Max number of bytes which will be uploaded at a time.\n",
              "const MAX_PAYLOAD_SIZE = 100 * 1024;\n",
              "\n",
              "function _uploadFiles(inputId, outputId) {\n",
              "  const steps = uploadFilesStep(inputId, outputId);\n",
              "  const outputElement = document.getElementById(outputId);\n",
              "  // Cache steps on the outputElement to make it available for the next call\n",
              "  // to uploadFilesContinue from Python.\n",
              "  outputElement.steps = steps;\n",
              "\n",
              "  return _uploadFilesContinue(outputId);\n",
              "}\n",
              "\n",
              "// This is roughly an async generator (not supported in the browser yet),\n",
              "// where there are multiple asynchronous steps and the Python side is going\n",
              "// to poll for completion of each step.\n",
              "// This uses a Promise to block the python side on completion of each step,\n",
              "// then passes the result of the previous step as the input to the next step.\n",
              "function _uploadFilesContinue(outputId) {\n",
              "  const outputElement = document.getElementById(outputId);\n",
              "  const steps = outputElement.steps;\n",
              "\n",
              "  const next = steps.next(outputElement.lastPromiseValue);\n",
              "  return Promise.resolve(next.value.promise).then((value) => {\n",
              "    // Cache the last promise value to make it available to the next\n",
              "    // step of the generator.\n",
              "    outputElement.lastPromiseValue = value;\n",
              "    return next.value.response;\n",
              "  });\n",
              "}\n",
              "\n",
              "/**\n",
              " * Generator function which is called between each async step of the upload\n",
              " * process.\n",
              " * @param {string} inputId Element ID of the input file picker element.\n",
              " * @param {string} outputId Element ID of the output display.\n",
              " * @return {!Iterable<!Object>} Iterable of next steps.\n",
              " */\n",
              "function* uploadFilesStep(inputId, outputId) {\n",
              "  const inputElement = document.getElementById(inputId);\n",
              "  inputElement.disabled = false;\n",
              "\n",
              "  const outputElement = document.getElementById(outputId);\n",
              "  outputElement.innerHTML = '';\n",
              "\n",
              "  const pickedPromise = new Promise((resolve) => {\n",
              "    inputElement.addEventListener('change', (e) => {\n",
              "      resolve(e.target.files);\n",
              "    });\n",
              "  });\n",
              "\n",
              "  const cancel = document.createElement('button');\n",
              "  inputElement.parentElement.appendChild(cancel);\n",
              "  cancel.textContent = 'Cancel upload';\n",
              "  const cancelPromise = new Promise((resolve) => {\n",
              "    cancel.onclick = () => {\n",
              "      resolve(null);\n",
              "    };\n",
              "  });\n",
              "\n",
              "  // Wait for the user to pick the files.\n",
              "  const files = yield {\n",
              "    promise: Promise.race([pickedPromise, cancelPromise]),\n",
              "    response: {\n",
              "      action: 'starting',\n",
              "    }\n",
              "  };\n",
              "\n",
              "  cancel.remove();\n",
              "\n",
              "  // Disable the input element since further picks are not allowed.\n",
              "  inputElement.disabled = true;\n",
              "\n",
              "  if (!files) {\n",
              "    return {\n",
              "      response: {\n",
              "        action: 'complete',\n",
              "      }\n",
              "    };\n",
              "  }\n",
              "\n",
              "  for (const file of files) {\n",
              "    const li = document.createElement('li');\n",
              "    li.append(span(file.name, {fontWeight: 'bold'}));\n",
              "    li.append(span(\n",
              "        `(${file.type || 'n/a'}) - ${file.size} bytes, ` +\n",
              "        `last modified: ${\n",
              "            file.lastModifiedDate ? file.lastModifiedDate.toLocaleDateString() :\n",
              "                                    'n/a'} - `));\n",
              "    const percent = span('0% done');\n",
              "    li.appendChild(percent);\n",
              "\n",
              "    outputElement.appendChild(li);\n",
              "\n",
              "    const fileDataPromise = new Promise((resolve) => {\n",
              "      const reader = new FileReader();\n",
              "      reader.onload = (e) => {\n",
              "        resolve(e.target.result);\n",
              "      };\n",
              "      reader.readAsArrayBuffer(file);\n",
              "    });\n",
              "    // Wait for the data to be ready.\n",
              "    let fileData = yield {\n",
              "      promise: fileDataPromise,\n",
              "      response: {\n",
              "        action: 'continue',\n",
              "      }\n",
              "    };\n",
              "\n",
              "    // Use a chunked sending to avoid message size limits. See b/62115660.\n",
              "    let position = 0;\n",
              "    do {\n",
              "      const length = Math.min(fileData.byteLength - position, MAX_PAYLOAD_SIZE);\n",
              "      const chunk = new Uint8Array(fileData, position, length);\n",
              "      position += length;\n",
              "\n",
              "      const base64 = btoa(String.fromCharCode.apply(null, chunk));\n",
              "      yield {\n",
              "        response: {\n",
              "          action: 'append',\n",
              "          file: file.name,\n",
              "          data: base64,\n",
              "        },\n",
              "      };\n",
              "\n",
              "      let percentDone = fileData.byteLength === 0 ?\n",
              "          100 :\n",
              "          Math.round((position / fileData.byteLength) * 100);\n",
              "      percent.textContent = `${percentDone}% done`;\n",
              "\n",
              "    } while (position < fileData.byteLength);\n",
              "  }\n",
              "\n",
              "  // All done.\n",
              "  yield {\n",
              "    response: {\n",
              "      action: 'complete',\n",
              "    }\n",
              "  };\n",
              "}\n",
              "\n",
              "scope.google = scope.google || {};\n",
              "scope.google.colab = scope.google.colab || {};\n",
              "scope.google.colab._files = {\n",
              "  _uploadFiles,\n",
              "  _uploadFilesContinue,\n",
              "};\n",
              "})(self);\n",
              "</script> "
            ]
          },
          "metadata": {}
        },
        {
          "output_type": "stream",
          "name": "stdout",
          "text": [
            "Saving kaggle.json to kaggle.json\n"
          ]
        }
      ]
    },
    {
      "cell_type": "code",
      "source": [
        "!mkdir -p ~/.kaggle\n",
        "!cp kaggle.json ~/.kaggle/"
      ],
      "metadata": {
        "id": "1cUoaD3O5YoW"
      },
      "execution_count": 6,
      "outputs": []
    },
    {
      "cell_type": "code",
      "source": [
        "!chmod 600 ~/.kaggle/kaggle.json"
      ],
      "metadata": {
        "id": "MBiQrh1na04k"
      },
      "execution_count": 7,
      "outputs": []
    },
    {
      "cell_type": "code",
      "source": [
        "!kaggle datasets download navoneel/brain-mri-images-for-brain-tumor-detection"
      ],
      "metadata": {
        "colab": {
          "base_uri": "https://localhost:8080/"
        },
        "id": "0nx6B7U_a4rt",
        "outputId": "4c9f949c-5798-44d0-cc80-34fc5e876f4c"
      },
      "execution_count": 8,
      "outputs": [
        {
          "output_type": "stream",
          "name": "stdout",
          "text": [
            "Dataset URL: https://www.kaggle.com/datasets/navoneel/brain-mri-images-for-brain-tumor-detection\n",
            "License(s): copyright-authors\n",
            "Downloading brain-mri-images-for-brain-tumor-detection.zip to /content/BrainTumorDetection\n",
            " 73% 11.0M/15.1M [00:00<00:00, 92.0MB/s]\n",
            "100% 15.1M/15.1M [00:00<00:00, 82.9MB/s]\n"
          ]
        }
      ]
    },
    {
      "cell_type": "code",
      "source": [
        "!ls"
      ],
      "metadata": {
        "colab": {
          "base_uri": "https://localhost:8080/"
        },
        "id": "ouwWV47hbRgE",
        "outputId": "c536e27d-3234-4e4a-c07a-cb574971d1b6"
      },
      "execution_count": 9,
      "outputs": [
        {
          "output_type": "stream",
          "name": "stdout",
          "text": [
            "brain-mri-images-for-brain-tumor-detection.zip\tkaggle.json  preparation.py  retrieve.py\n",
            "evaluate.py\t\t\t\t\tmodel.py     resnet.py\t     setting.py\n"
          ]
        }
      ]
    },
    {
      "cell_type": "code",
      "source": [
        "!unzip brain-mri-images-for-brain-tumor-detection.zip -d brain_mri"
      ],
      "metadata": {
        "colab": {
          "base_uri": "https://localhost:8080/"
        },
        "id": "y0K1m2dNblTG",
        "outputId": "13a8920b-a5df-4eb4-af6c-4ad9de4a693c"
      },
      "execution_count": 10,
      "outputs": [
        {
          "output_type": "stream",
          "name": "stdout",
          "text": [
            "Archive:  brain-mri-images-for-brain-tumor-detection.zip\n",
            "  inflating: brain_mri/brain_tumor_dataset/no/1 no.jpeg  \n",
            "  inflating: brain_mri/brain_tumor_dataset/no/10 no.jpg  \n",
            "  inflating: brain_mri/brain_tumor_dataset/no/11 no.jpg  \n",
            "  inflating: brain_mri/brain_tumor_dataset/no/12 no.jpg  \n",
            "  inflating: brain_mri/brain_tumor_dataset/no/13 no.jpg  \n",
            "  inflating: brain_mri/brain_tumor_dataset/no/14 no.jpg  \n",
            "  inflating: brain_mri/brain_tumor_dataset/no/15 no.jpg  \n",
            "  inflating: brain_mri/brain_tumor_dataset/no/17 no.jpg  \n",
            "  inflating: brain_mri/brain_tumor_dataset/no/18 no.jpg  \n",
            "  inflating: brain_mri/brain_tumor_dataset/no/19 no.jpg  \n",
            "  inflating: brain_mri/brain_tumor_dataset/no/2 no.jpeg  \n",
            "  inflating: brain_mri/brain_tumor_dataset/no/20 no.jpg  \n",
            "  inflating: brain_mri/brain_tumor_dataset/no/21 no.jpg  \n",
            "  inflating: brain_mri/brain_tumor_dataset/no/22 no.jpg  \n",
            "  inflating: brain_mri/brain_tumor_dataset/no/23 no.jpg  \n",
            "  inflating: brain_mri/brain_tumor_dataset/no/24 no.jpg  \n",
            "  inflating: brain_mri/brain_tumor_dataset/no/25 no.jpg  \n",
            "  inflating: brain_mri/brain_tumor_dataset/no/26 no.jpg  \n",
            "  inflating: brain_mri/brain_tumor_dataset/no/27 no.jpg  \n",
            "  inflating: brain_mri/brain_tumor_dataset/no/28 no.jpg  \n",
            "  inflating: brain_mri/brain_tumor_dataset/no/29 no.jpg  \n",
            "  inflating: brain_mri/brain_tumor_dataset/no/3 no.jpg  \n",
            "  inflating: brain_mri/brain_tumor_dataset/no/30 no.jpg  \n",
            "  inflating: brain_mri/brain_tumor_dataset/no/31 no.jpg  \n",
            "  inflating: brain_mri/brain_tumor_dataset/no/32 no.jpg  \n",
            "  inflating: brain_mri/brain_tumor_dataset/no/33 no.jpg  \n",
            "  inflating: brain_mri/brain_tumor_dataset/no/34 no.jpg  \n",
            "  inflating: brain_mri/brain_tumor_dataset/no/35 no.jpg  \n",
            "  inflating: brain_mri/brain_tumor_dataset/no/36 no.jpg  \n",
            "  inflating: brain_mri/brain_tumor_dataset/no/37 no.jpg  \n",
            "  inflating: brain_mri/brain_tumor_dataset/no/38 no.jpg  \n",
            "  inflating: brain_mri/brain_tumor_dataset/no/39 no.jpg  \n",
            "  inflating: brain_mri/brain_tumor_dataset/no/4 no.jpg  \n",
            "  inflating: brain_mri/brain_tumor_dataset/no/40 no.jpg  \n",
            "  inflating: brain_mri/brain_tumor_dataset/no/41 no.jpg  \n",
            "  inflating: brain_mri/brain_tumor_dataset/no/42 no.jpg  \n",
            "  inflating: brain_mri/brain_tumor_dataset/no/43 no.jpg  \n",
            "  inflating: brain_mri/brain_tumor_dataset/no/44no.jpg  \n",
            "  inflating: brain_mri/brain_tumor_dataset/no/45 no.jpg  \n",
            "  inflating: brain_mri/brain_tumor_dataset/no/46 no.jpg  \n",
            "  inflating: brain_mri/brain_tumor_dataset/no/47 no.jpg  \n",
            "  inflating: brain_mri/brain_tumor_dataset/no/48 no.jpeg  \n",
            "  inflating: brain_mri/brain_tumor_dataset/no/49 no.jpg  \n",
            "  inflating: brain_mri/brain_tumor_dataset/no/5 no.jpg  \n",
            "  inflating: brain_mri/brain_tumor_dataset/no/50 no.jpg  \n",
            "  inflating: brain_mri/brain_tumor_dataset/no/6 no.jpg  \n",
            "  inflating: brain_mri/brain_tumor_dataset/no/7 no.jpg  \n",
            "  inflating: brain_mri/brain_tumor_dataset/no/8 no.jpg  \n",
            "  inflating: brain_mri/brain_tumor_dataset/no/9 no.jpg  \n",
            "  inflating: brain_mri/brain_tumor_dataset/no/N1.JPG  \n",
            "  inflating: brain_mri/brain_tumor_dataset/no/N11.jpg  \n",
            "  inflating: brain_mri/brain_tumor_dataset/no/N15.jpg  \n",
            "  inflating: brain_mri/brain_tumor_dataset/no/N16.jpg  \n",
            "  inflating: brain_mri/brain_tumor_dataset/no/N17.jpg  \n",
            "  inflating: brain_mri/brain_tumor_dataset/no/N19.JPG  \n",
            "  inflating: brain_mri/brain_tumor_dataset/no/N2.JPG  \n",
            "  inflating: brain_mri/brain_tumor_dataset/no/N20.JPG  \n",
            "  inflating: brain_mri/brain_tumor_dataset/no/N21.jpg  \n",
            "  inflating: brain_mri/brain_tumor_dataset/no/N22.JPG  \n",
            "  inflating: brain_mri/brain_tumor_dataset/no/N26.JPG  \n",
            "  inflating: brain_mri/brain_tumor_dataset/no/N3.jpg  \n",
            "  inflating: brain_mri/brain_tumor_dataset/no/N5.jpg  \n",
            "  inflating: brain_mri/brain_tumor_dataset/no/N6.jpg  \n",
            "  inflating: brain_mri/brain_tumor_dataset/no/No11.jpg  \n",
            "  inflating: brain_mri/brain_tumor_dataset/no/No12.jpg  \n",
            "  inflating: brain_mri/brain_tumor_dataset/no/No13.jpg  \n",
            "  inflating: brain_mri/brain_tumor_dataset/no/No14.jpg  \n",
            "  inflating: brain_mri/brain_tumor_dataset/no/No15.jpg  \n",
            "  inflating: brain_mri/brain_tumor_dataset/no/No16.jpg  \n",
            "  inflating: brain_mri/brain_tumor_dataset/no/No17.jpg  \n",
            "  inflating: brain_mri/brain_tumor_dataset/no/No18.jpg  \n",
            "  inflating: brain_mri/brain_tumor_dataset/no/No19.jpg  \n",
            "  inflating: brain_mri/brain_tumor_dataset/no/No20.jpg  \n",
            "  inflating: brain_mri/brain_tumor_dataset/no/No21.jpg  \n",
            "  inflating: brain_mri/brain_tumor_dataset/no/No22.jpg  \n",
            "  inflating: brain_mri/brain_tumor_dataset/no/no 1.jpg  \n",
            "  inflating: brain_mri/brain_tumor_dataset/no/no 10.jpg  \n",
            "  inflating: brain_mri/brain_tumor_dataset/no/no 100.jpg  \n",
            "  inflating: brain_mri/brain_tumor_dataset/no/no 2.jpg  \n",
            "  inflating: brain_mri/brain_tumor_dataset/no/no 3.jpg  \n",
            "  inflating: brain_mri/brain_tumor_dataset/no/no 4.jpg  \n",
            "  inflating: brain_mri/brain_tumor_dataset/no/no 5.jpeg  \n",
            "  inflating: brain_mri/brain_tumor_dataset/no/no 6.jpg  \n",
            "  inflating: brain_mri/brain_tumor_dataset/no/no 7.jpeg  \n",
            "  inflating: brain_mri/brain_tumor_dataset/no/no 8.jpg  \n",
            "  inflating: brain_mri/brain_tumor_dataset/no/no 89.jpg  \n",
            "  inflating: brain_mri/brain_tumor_dataset/no/no 9.png  \n",
            "  inflating: brain_mri/brain_tumor_dataset/no/no 90.jpg  \n",
            "  inflating: brain_mri/brain_tumor_dataset/no/no 91.jpeg  \n",
            "  inflating: brain_mri/brain_tumor_dataset/no/no 92.jpg  \n",
            "  inflating: brain_mri/brain_tumor_dataset/no/no 923.jpg  \n",
            "  inflating: brain_mri/brain_tumor_dataset/no/no 94.jpg  \n",
            "  inflating: brain_mri/brain_tumor_dataset/no/no 95.jpg  \n",
            "  inflating: brain_mri/brain_tumor_dataset/no/no 96.jpg  \n",
            "  inflating: brain_mri/brain_tumor_dataset/no/no 97.jpg  \n",
            "  inflating: brain_mri/brain_tumor_dataset/no/no 98.jpg  \n",
            "  inflating: brain_mri/brain_tumor_dataset/no/no 99.jpg  \n",
            "  inflating: brain_mri/brain_tumor_dataset/no/no.jpg  \n",
            "  inflating: brain_mri/brain_tumor_dataset/yes/Y1.jpg  \n",
            "  inflating: brain_mri/brain_tumor_dataset/yes/Y10.jpg  \n",
            "  inflating: brain_mri/brain_tumor_dataset/yes/Y100.JPG  \n",
            "  inflating: brain_mri/brain_tumor_dataset/yes/Y101.jpg  \n",
            "  inflating: brain_mri/brain_tumor_dataset/yes/Y102.jpg  \n",
            "  inflating: brain_mri/brain_tumor_dataset/yes/Y103.jpg  \n",
            "  inflating: brain_mri/brain_tumor_dataset/yes/Y104.jpg  \n",
            "  inflating: brain_mri/brain_tumor_dataset/yes/Y105.jpg  \n",
            "  inflating: brain_mri/brain_tumor_dataset/yes/Y106.jpg  \n",
            "  inflating: brain_mri/brain_tumor_dataset/yes/Y107.jpg  \n",
            "  inflating: brain_mri/brain_tumor_dataset/yes/Y108.jpg  \n",
            "  inflating: brain_mri/brain_tumor_dataset/yes/Y109.JPG  \n",
            "  inflating: brain_mri/brain_tumor_dataset/yes/Y11.jpg  \n",
            "  inflating: brain_mri/brain_tumor_dataset/yes/Y111.JPG  \n",
            "  inflating: brain_mri/brain_tumor_dataset/yes/Y112.JPG  \n",
            "  inflating: brain_mri/brain_tumor_dataset/yes/Y113.JPG  \n",
            "  inflating: brain_mri/brain_tumor_dataset/yes/Y114.JPG  \n",
            "  inflating: brain_mri/brain_tumor_dataset/yes/Y115.JPG  \n",
            "  inflating: brain_mri/brain_tumor_dataset/yes/Y116.JPG  \n",
            "  inflating: brain_mri/brain_tumor_dataset/yes/Y117.JPG  \n",
            "  inflating: brain_mri/brain_tumor_dataset/yes/Y12.jpg  \n",
            "  inflating: brain_mri/brain_tumor_dataset/yes/Y120.JPG  \n",
            "  inflating: brain_mri/brain_tumor_dataset/yes/Y13.jpg  \n",
            "  inflating: brain_mri/brain_tumor_dataset/yes/Y14.jpg  \n",
            "  inflating: brain_mri/brain_tumor_dataset/yes/Y146.JPG  \n",
            "  inflating: brain_mri/brain_tumor_dataset/yes/Y147.JPG  \n",
            "  inflating: brain_mri/brain_tumor_dataset/yes/Y148.JPG  \n",
            "  inflating: brain_mri/brain_tumor_dataset/yes/Y15.jpg  \n",
            "  inflating: brain_mri/brain_tumor_dataset/yes/Y153.jpg  \n",
            "  inflating: brain_mri/brain_tumor_dataset/yes/Y154.jpg  \n",
            "  inflating: brain_mri/brain_tumor_dataset/yes/Y155.JPG  \n",
            "  inflating: brain_mri/brain_tumor_dataset/yes/Y156.JPG  \n",
            "  inflating: brain_mri/brain_tumor_dataset/yes/Y157.JPG  \n",
            "  inflating: brain_mri/brain_tumor_dataset/yes/Y158.JPG  \n",
            "  inflating: brain_mri/brain_tumor_dataset/yes/Y159.JPG  \n",
            "  inflating: brain_mri/brain_tumor_dataset/yes/Y16.JPG  \n",
            "  inflating: brain_mri/brain_tumor_dataset/yes/Y160.JPG  \n",
            "  inflating: brain_mri/brain_tumor_dataset/yes/Y161.JPG  \n",
            "  inflating: brain_mri/brain_tumor_dataset/yes/Y162.jpg  \n",
            "  inflating: brain_mri/brain_tumor_dataset/yes/Y163.JPG  \n",
            "  inflating: brain_mri/brain_tumor_dataset/yes/Y164.JPG  \n",
            "  inflating: brain_mri/brain_tumor_dataset/yes/Y165.JPG  \n",
            "  inflating: brain_mri/brain_tumor_dataset/yes/Y166.JPG  \n",
            "  inflating: brain_mri/brain_tumor_dataset/yes/Y167.JPG  \n",
            "  inflating: brain_mri/brain_tumor_dataset/yes/Y168.jpg  \n",
            "  inflating: brain_mri/brain_tumor_dataset/yes/Y169.jpg  \n",
            "  inflating: brain_mri/brain_tumor_dataset/yes/Y17.jpg  \n",
            "  inflating: brain_mri/brain_tumor_dataset/yes/Y170.JPG  \n",
            "  inflating: brain_mri/brain_tumor_dataset/yes/Y18.JPG  \n",
            "  inflating: brain_mri/brain_tumor_dataset/yes/Y180.jpg  \n",
            "  inflating: brain_mri/brain_tumor_dataset/yes/Y181.jpg  \n",
            "  inflating: brain_mri/brain_tumor_dataset/yes/Y182.JPG  \n",
            "  inflating: brain_mri/brain_tumor_dataset/yes/Y183.jpg  \n",
            "  inflating: brain_mri/brain_tumor_dataset/yes/Y184.JPG  \n",
            "  inflating: brain_mri/brain_tumor_dataset/yes/Y185.jpg  \n",
            "  inflating: brain_mri/brain_tumor_dataset/yes/Y186.jpg  \n",
            "  inflating: brain_mri/brain_tumor_dataset/yes/Y187.jpg  \n",
            "  inflating: brain_mri/brain_tumor_dataset/yes/Y188.jpg  \n",
            "  inflating: brain_mri/brain_tumor_dataset/yes/Y19.JPG  \n",
            "  inflating: brain_mri/brain_tumor_dataset/yes/Y192.JPG  \n",
            "  inflating: brain_mri/brain_tumor_dataset/yes/Y193.JPG  \n",
            "  inflating: brain_mri/brain_tumor_dataset/yes/Y194.jpg  \n",
            "  inflating: brain_mri/brain_tumor_dataset/yes/Y195.JPG  \n",
            "  inflating: brain_mri/brain_tumor_dataset/yes/Y2.jpg  \n",
            "  inflating: brain_mri/brain_tumor_dataset/yes/Y20.jpg  \n",
            "  inflating: brain_mri/brain_tumor_dataset/yes/Y21.jpg  \n",
            "  inflating: brain_mri/brain_tumor_dataset/yes/Y22.jpg  \n",
            "  inflating: brain_mri/brain_tumor_dataset/yes/Y23.JPG  \n",
            "  inflating: brain_mri/brain_tumor_dataset/yes/Y24.jpg  \n",
            "  inflating: brain_mri/brain_tumor_dataset/yes/Y242.JPG  \n",
            "  inflating: brain_mri/brain_tumor_dataset/yes/Y243.JPG  \n",
            "  inflating: brain_mri/brain_tumor_dataset/yes/Y244.JPG  \n",
            "  inflating: brain_mri/brain_tumor_dataset/yes/Y245.jpg  \n",
            "  inflating: brain_mri/brain_tumor_dataset/yes/Y246.JPG  \n",
            "  inflating: brain_mri/brain_tumor_dataset/yes/Y247.JPG  \n",
            "  inflating: brain_mri/brain_tumor_dataset/yes/Y248.JPG  \n",
            "  inflating: brain_mri/brain_tumor_dataset/yes/Y249.JPG  \n",
            "  inflating: brain_mri/brain_tumor_dataset/yes/Y25.jpg  \n",
            "  inflating: brain_mri/brain_tumor_dataset/yes/Y250.jpg  \n",
            "  inflating: brain_mri/brain_tumor_dataset/yes/Y251.JPG  \n",
            "  inflating: brain_mri/brain_tumor_dataset/yes/Y252.jpg  \n",
            "  inflating: brain_mri/brain_tumor_dataset/yes/Y253.JPG  \n",
            "  inflating: brain_mri/brain_tumor_dataset/yes/Y254.jpg  \n",
            "  inflating: brain_mri/brain_tumor_dataset/yes/Y255.JPG  \n",
            "  inflating: brain_mri/brain_tumor_dataset/yes/Y256.JPG  \n",
            "  inflating: brain_mri/brain_tumor_dataset/yes/Y257.jpg  \n",
            "  inflating: brain_mri/brain_tumor_dataset/yes/Y258.JPG  \n",
            "  inflating: brain_mri/brain_tumor_dataset/yes/Y259.JPG  \n",
            "  inflating: brain_mri/brain_tumor_dataset/yes/Y26.jpg  \n",
            "  inflating: brain_mri/brain_tumor_dataset/yes/Y27.jpg  \n",
            "  inflating: brain_mri/brain_tumor_dataset/yes/Y28.jpg  \n",
            "  inflating: brain_mri/brain_tumor_dataset/yes/Y29.jpg  \n",
            "  inflating: brain_mri/brain_tumor_dataset/yes/Y3.jpg  \n",
            "  inflating: brain_mri/brain_tumor_dataset/yes/Y30.jpg  \n",
            "  inflating: brain_mri/brain_tumor_dataset/yes/Y31.jpg  \n",
            "  inflating: brain_mri/brain_tumor_dataset/yes/Y32.jpg  \n",
            "  inflating: brain_mri/brain_tumor_dataset/yes/Y33.jpg  \n",
            "  inflating: brain_mri/brain_tumor_dataset/yes/Y34.jpg  \n",
            "  inflating: brain_mri/brain_tumor_dataset/yes/Y35.jpg  \n",
            "  inflating: brain_mri/brain_tumor_dataset/yes/Y36.JPG  \n",
            "  inflating: brain_mri/brain_tumor_dataset/yes/Y37.jpg  \n",
            "  inflating: brain_mri/brain_tumor_dataset/yes/Y38.jpg  \n",
            "  inflating: brain_mri/brain_tumor_dataset/yes/Y39.jpg  \n",
            "  inflating: brain_mri/brain_tumor_dataset/yes/Y4.jpg  \n",
            "  inflating: brain_mri/brain_tumor_dataset/yes/Y40.JPG  \n",
            "  inflating: brain_mri/brain_tumor_dataset/yes/Y41.jpg  \n",
            "  inflating: brain_mri/brain_tumor_dataset/yes/Y42.jpg  \n",
            "  inflating: brain_mri/brain_tumor_dataset/yes/Y44.JPG  \n",
            "  inflating: brain_mri/brain_tumor_dataset/yes/Y45.JPG  \n",
            "  inflating: brain_mri/brain_tumor_dataset/yes/Y46.jpg  \n",
            "  inflating: brain_mri/brain_tumor_dataset/yes/Y47.JPG  \n",
            "  inflating: brain_mri/brain_tumor_dataset/yes/Y49.JPG  \n",
            "  inflating: brain_mri/brain_tumor_dataset/yes/Y50.JPG  \n",
            "  inflating: brain_mri/brain_tumor_dataset/yes/Y51.jpg  \n",
            "  inflating: brain_mri/brain_tumor_dataset/yes/Y52.jpg  \n",
            "  inflating: brain_mri/brain_tumor_dataset/yes/Y53.jpg  \n",
            "  inflating: brain_mri/brain_tumor_dataset/yes/Y54.jpg  \n",
            "  inflating: brain_mri/brain_tumor_dataset/yes/Y55.jpg  \n",
            "  inflating: brain_mri/brain_tumor_dataset/yes/Y56.jpg  \n",
            "  inflating: brain_mri/brain_tumor_dataset/yes/Y58.JPG  \n",
            "  inflating: brain_mri/brain_tumor_dataset/yes/Y59.JPG  \n",
            "  inflating: brain_mri/brain_tumor_dataset/yes/Y6.jpg  \n",
            "  inflating: brain_mri/brain_tumor_dataset/yes/Y60.jpg  \n",
            "  inflating: brain_mri/brain_tumor_dataset/yes/Y61.jpg  \n",
            "  inflating: brain_mri/brain_tumor_dataset/yes/Y62.jpg  \n",
            "  inflating: brain_mri/brain_tumor_dataset/yes/Y65.JPG  \n",
            "  inflating: brain_mri/brain_tumor_dataset/yes/Y66.JPG  \n",
            "  inflating: brain_mri/brain_tumor_dataset/yes/Y67.JPG  \n",
            "  inflating: brain_mri/brain_tumor_dataset/yes/Y69.jpg  \n",
            "  inflating: brain_mri/brain_tumor_dataset/yes/Y7.jpg  \n",
            "  inflating: brain_mri/brain_tumor_dataset/yes/Y70.jpg  \n",
            "  inflating: brain_mri/brain_tumor_dataset/yes/Y71.JPG  \n",
            "  inflating: brain_mri/brain_tumor_dataset/yes/Y73.jpg  \n",
            "  inflating: brain_mri/brain_tumor_dataset/yes/Y74.jpg  \n",
            "  inflating: brain_mri/brain_tumor_dataset/yes/Y75.JPG  \n",
            "  inflating: brain_mri/brain_tumor_dataset/yes/Y76.jpg  \n",
            "  inflating: brain_mri/brain_tumor_dataset/yes/Y77.jpg  \n",
            "  inflating: brain_mri/brain_tumor_dataset/yes/Y78.jpg  \n",
            "  inflating: brain_mri/brain_tumor_dataset/yes/Y79.jpg  \n",
            "  inflating: brain_mri/brain_tumor_dataset/yes/Y8.jpg  \n",
            "  inflating: brain_mri/brain_tumor_dataset/yes/Y81.jpg  \n",
            "  inflating: brain_mri/brain_tumor_dataset/yes/Y82.jpg  \n",
            "  inflating: brain_mri/brain_tumor_dataset/yes/Y85.JPG  \n",
            "  inflating: brain_mri/brain_tumor_dataset/yes/Y86.JPG  \n",
            "  inflating: brain_mri/brain_tumor_dataset/yes/Y89.JPG  \n",
            "  inflating: brain_mri/brain_tumor_dataset/yes/Y9.jpg  \n",
            "  inflating: brain_mri/brain_tumor_dataset/yes/Y90.jpg  \n",
            "  inflating: brain_mri/brain_tumor_dataset/yes/Y91.jpg  \n",
            "  inflating: brain_mri/brain_tumor_dataset/yes/Y92.jpg  \n",
            "  inflating: brain_mri/brain_tumor_dataset/yes/Y92.png  \n",
            "  inflating: brain_mri/brain_tumor_dataset/yes/Y95.jpg  \n",
            "  inflating: brain_mri/brain_tumor_dataset/yes/Y96.jpg  \n",
            "  inflating: brain_mri/brain_tumor_dataset/yes/Y97.JPG  \n",
            "  inflating: brain_mri/brain_tumor_dataset/yes/Y98.JPG  \n",
            "  inflating: brain_mri/brain_tumor_dataset/yes/Y99.JPG  \n",
            "  inflating: brain_mri/no/1 no.jpeg  \n",
            "  inflating: brain_mri/no/10 no.jpg  \n",
            "  inflating: brain_mri/no/11 no.jpg  \n",
            "  inflating: brain_mri/no/12 no.jpg  \n",
            "  inflating: brain_mri/no/13 no.jpg  \n",
            "  inflating: brain_mri/no/14 no.jpg  \n",
            "  inflating: brain_mri/no/15 no.jpg  \n",
            "  inflating: brain_mri/no/17 no.jpg  \n",
            "  inflating: brain_mri/no/18 no.jpg  \n",
            "  inflating: brain_mri/no/19 no.jpg  \n",
            "  inflating: brain_mri/no/2 no.jpeg  \n",
            "  inflating: brain_mri/no/20 no.jpg  \n",
            "  inflating: brain_mri/no/21 no.jpg  \n",
            "  inflating: brain_mri/no/22 no.jpg  \n",
            "  inflating: brain_mri/no/23 no.jpg  \n",
            "  inflating: brain_mri/no/24 no.jpg  \n",
            "  inflating: brain_mri/no/25 no.jpg  \n",
            "  inflating: brain_mri/no/26 no.jpg  \n",
            "  inflating: brain_mri/no/27 no.jpg  \n",
            "  inflating: brain_mri/no/28 no.jpg  \n",
            "  inflating: brain_mri/no/29 no.jpg  \n",
            "  inflating: brain_mri/no/3 no.jpg   \n",
            "  inflating: brain_mri/no/30 no.jpg  \n",
            "  inflating: brain_mri/no/31 no.jpg  \n",
            "  inflating: brain_mri/no/32 no.jpg  \n",
            "  inflating: brain_mri/no/33 no.jpg  \n",
            "  inflating: brain_mri/no/34 no.jpg  \n",
            "  inflating: brain_mri/no/35 no.jpg  \n",
            "  inflating: brain_mri/no/36 no.jpg  \n",
            "  inflating: brain_mri/no/37 no.jpg  \n",
            "  inflating: brain_mri/no/38 no.jpg  \n",
            "  inflating: brain_mri/no/39 no.jpg  \n",
            "  inflating: brain_mri/no/4 no.jpg   \n",
            "  inflating: brain_mri/no/40 no.jpg  \n",
            "  inflating: brain_mri/no/41 no.jpg  \n",
            "  inflating: brain_mri/no/42 no.jpg  \n",
            "  inflating: brain_mri/no/43 no.jpg  \n",
            "  inflating: brain_mri/no/44no.jpg   \n",
            "  inflating: brain_mri/no/45 no.jpg  \n",
            "  inflating: brain_mri/no/46 no.jpg  \n",
            "  inflating: brain_mri/no/47 no.jpg  \n",
            "  inflating: brain_mri/no/48 no.jpeg  \n",
            "  inflating: brain_mri/no/49 no.jpg  \n",
            "  inflating: brain_mri/no/5 no.jpg   \n",
            "  inflating: brain_mri/no/50 no.jpg  \n",
            "  inflating: brain_mri/no/6 no.jpg   \n",
            "  inflating: brain_mri/no/7 no.jpg   \n",
            "  inflating: brain_mri/no/8 no.jpg   \n",
            "  inflating: brain_mri/no/9 no.jpg   \n",
            "  inflating: brain_mri/no/N1.JPG     \n",
            "  inflating: brain_mri/no/N11.jpg    \n",
            "  inflating: brain_mri/no/N15.jpg    \n",
            "  inflating: brain_mri/no/N16.jpg    \n",
            "  inflating: brain_mri/no/N17.jpg    \n",
            "  inflating: brain_mri/no/N19.JPG    \n",
            "  inflating: brain_mri/no/N2.JPG     \n",
            "  inflating: brain_mri/no/N20.JPG    \n",
            "  inflating: brain_mri/no/N21.jpg    \n",
            "  inflating: brain_mri/no/N22.JPG    \n",
            "  inflating: brain_mri/no/N26.JPG    \n",
            "  inflating: brain_mri/no/N3.jpg     \n",
            "  inflating: brain_mri/no/N5.jpg     \n",
            "  inflating: brain_mri/no/N6.jpg     \n",
            "  inflating: brain_mri/no/No11.jpg   \n",
            "  inflating: brain_mri/no/No12.jpg   \n",
            "  inflating: brain_mri/no/No13.jpg   \n",
            "  inflating: brain_mri/no/No14.jpg   \n",
            "  inflating: brain_mri/no/No15.jpg   \n",
            "  inflating: brain_mri/no/No16.jpg   \n",
            "  inflating: brain_mri/no/No17.jpg   \n",
            "  inflating: brain_mri/no/No18.jpg   \n",
            "  inflating: brain_mri/no/No19.jpg   \n",
            "  inflating: brain_mri/no/No20.jpg   \n",
            "  inflating: brain_mri/no/No21.jpg   \n",
            "  inflating: brain_mri/no/No22.jpg   \n",
            "  inflating: brain_mri/no/no 1.jpg   \n",
            "  inflating: brain_mri/no/no 10.jpg  \n",
            "  inflating: brain_mri/no/no 100.jpg  \n",
            "  inflating: brain_mri/no/no 2.jpg   \n",
            "  inflating: brain_mri/no/no 3.jpg   \n",
            "  inflating: brain_mri/no/no 4.jpg   \n",
            "  inflating: brain_mri/no/no 5.jpeg  \n",
            "  inflating: brain_mri/no/no 6.jpg   \n",
            "  inflating: brain_mri/no/no 7.jpeg  \n",
            "  inflating: brain_mri/no/no 8.jpg   \n",
            "  inflating: brain_mri/no/no 89.jpg  \n",
            "  inflating: brain_mri/no/no 9.png   \n",
            "  inflating: brain_mri/no/no 90.jpg  \n",
            "  inflating: brain_mri/no/no 91.jpeg  \n",
            "  inflating: brain_mri/no/no 92.jpg  \n",
            "  inflating: brain_mri/no/no 923.jpg  \n",
            "  inflating: brain_mri/no/no 94.jpg  \n",
            "  inflating: brain_mri/no/no 95.jpg  \n",
            "  inflating: brain_mri/no/no 96.jpg  \n",
            "  inflating: brain_mri/no/no 97.jpg  \n",
            "  inflating: brain_mri/no/no 98.jpg  \n",
            "  inflating: brain_mri/no/no 99.jpg  \n",
            "  inflating: brain_mri/no/no.jpg     \n",
            "  inflating: brain_mri/yes/Y1.jpg    \n",
            "  inflating: brain_mri/yes/Y10.jpg   \n",
            "  inflating: brain_mri/yes/Y100.JPG  \n",
            "  inflating: brain_mri/yes/Y101.jpg  \n",
            "  inflating: brain_mri/yes/Y102.jpg  \n",
            "  inflating: brain_mri/yes/Y103.jpg  \n",
            "  inflating: brain_mri/yes/Y104.jpg  \n",
            "  inflating: brain_mri/yes/Y105.jpg  \n",
            "  inflating: brain_mri/yes/Y106.jpg  \n",
            "  inflating: brain_mri/yes/Y107.jpg  \n",
            "  inflating: brain_mri/yes/Y108.jpg  \n",
            "  inflating: brain_mri/yes/Y109.JPG  \n",
            "  inflating: brain_mri/yes/Y11.jpg   \n",
            "  inflating: brain_mri/yes/Y111.JPG  \n",
            "  inflating: brain_mri/yes/Y112.JPG  \n",
            "  inflating: brain_mri/yes/Y113.JPG  \n",
            "  inflating: brain_mri/yes/Y114.JPG  \n",
            "  inflating: brain_mri/yes/Y115.JPG  \n",
            "  inflating: brain_mri/yes/Y116.JPG  \n",
            "  inflating: brain_mri/yes/Y117.JPG  \n",
            "  inflating: brain_mri/yes/Y12.jpg   \n",
            "  inflating: brain_mri/yes/Y120.JPG  \n",
            "  inflating: brain_mri/yes/Y13.jpg   \n",
            "  inflating: brain_mri/yes/Y14.jpg   \n",
            "  inflating: brain_mri/yes/Y146.JPG  \n",
            "  inflating: brain_mri/yes/Y147.JPG  \n",
            "  inflating: brain_mri/yes/Y148.JPG  \n",
            "  inflating: brain_mri/yes/Y15.jpg   \n",
            "  inflating: brain_mri/yes/Y153.jpg  \n",
            "  inflating: brain_mri/yes/Y154.jpg  \n",
            "  inflating: brain_mri/yes/Y155.JPG  \n",
            "  inflating: brain_mri/yes/Y156.JPG  \n",
            "  inflating: brain_mri/yes/Y157.JPG  \n",
            "  inflating: brain_mri/yes/Y158.JPG  \n",
            "  inflating: brain_mri/yes/Y159.JPG  \n",
            "  inflating: brain_mri/yes/Y16.JPG   \n",
            "  inflating: brain_mri/yes/Y160.JPG  \n",
            "  inflating: brain_mri/yes/Y161.JPG  \n",
            "  inflating: brain_mri/yes/Y162.jpg  \n",
            "  inflating: brain_mri/yes/Y163.JPG  \n",
            "  inflating: brain_mri/yes/Y164.JPG  \n",
            "  inflating: brain_mri/yes/Y165.JPG  \n",
            "  inflating: brain_mri/yes/Y166.JPG  \n",
            "  inflating: brain_mri/yes/Y167.JPG  \n",
            "  inflating: brain_mri/yes/Y168.jpg  \n",
            "  inflating: brain_mri/yes/Y169.jpg  \n",
            "  inflating: brain_mri/yes/Y17.jpg   \n",
            "  inflating: brain_mri/yes/Y170.JPG  \n",
            "  inflating: brain_mri/yes/Y18.JPG   \n",
            "  inflating: brain_mri/yes/Y180.jpg  \n",
            "  inflating: brain_mri/yes/Y181.jpg  \n",
            "  inflating: brain_mri/yes/Y182.JPG  \n",
            "  inflating: brain_mri/yes/Y183.jpg  \n",
            "  inflating: brain_mri/yes/Y184.JPG  \n",
            "  inflating: brain_mri/yes/Y185.jpg  \n",
            "  inflating: brain_mri/yes/Y186.jpg  \n",
            "  inflating: brain_mri/yes/Y187.jpg  \n",
            "  inflating: brain_mri/yes/Y188.jpg  \n",
            "  inflating: brain_mri/yes/Y19.JPG   \n",
            "  inflating: brain_mri/yes/Y192.JPG  \n",
            "  inflating: brain_mri/yes/Y193.JPG  \n",
            "  inflating: brain_mri/yes/Y194.jpg  \n",
            "  inflating: brain_mri/yes/Y195.JPG  \n",
            "  inflating: brain_mri/yes/Y2.jpg    \n",
            "  inflating: brain_mri/yes/Y20.jpg   \n",
            "  inflating: brain_mri/yes/Y21.jpg   \n",
            "  inflating: brain_mri/yes/Y22.jpg   \n",
            "  inflating: brain_mri/yes/Y23.JPG   \n",
            "  inflating: brain_mri/yes/Y24.jpg   \n",
            "  inflating: brain_mri/yes/Y242.JPG  \n",
            "  inflating: brain_mri/yes/Y243.JPG  \n",
            "  inflating: brain_mri/yes/Y244.JPG  \n",
            "  inflating: brain_mri/yes/Y245.jpg  \n",
            "  inflating: brain_mri/yes/Y246.JPG  \n",
            "  inflating: brain_mri/yes/Y247.JPG  \n",
            "  inflating: brain_mri/yes/Y248.JPG  \n",
            "  inflating: brain_mri/yes/Y249.JPG  \n",
            "  inflating: brain_mri/yes/Y25.jpg   \n",
            "  inflating: brain_mri/yes/Y250.jpg  \n",
            "  inflating: brain_mri/yes/Y251.JPG  \n",
            "  inflating: brain_mri/yes/Y252.jpg  \n",
            "  inflating: brain_mri/yes/Y253.JPG  \n",
            "  inflating: brain_mri/yes/Y254.jpg  \n",
            "  inflating: brain_mri/yes/Y255.JPG  \n",
            "  inflating: brain_mri/yes/Y256.JPG  \n",
            "  inflating: brain_mri/yes/Y257.jpg  \n",
            "  inflating: brain_mri/yes/Y258.JPG  \n",
            "  inflating: brain_mri/yes/Y259.JPG  \n",
            "  inflating: brain_mri/yes/Y26.jpg   \n",
            "  inflating: brain_mri/yes/Y27.jpg   \n",
            "  inflating: brain_mri/yes/Y28.jpg   \n",
            "  inflating: brain_mri/yes/Y29.jpg   \n",
            "  inflating: brain_mri/yes/Y3.jpg    \n",
            "  inflating: brain_mri/yes/Y30.jpg   \n",
            "  inflating: brain_mri/yes/Y31.jpg   \n",
            "  inflating: brain_mri/yes/Y32.jpg   \n",
            "  inflating: brain_mri/yes/Y33.jpg   \n",
            "  inflating: brain_mri/yes/Y34.jpg   \n",
            "  inflating: brain_mri/yes/Y35.jpg   \n",
            "  inflating: brain_mri/yes/Y36.JPG   \n",
            "  inflating: brain_mri/yes/Y37.jpg   \n",
            "  inflating: brain_mri/yes/Y38.jpg   \n",
            "  inflating: brain_mri/yes/Y39.jpg   \n",
            "  inflating: brain_mri/yes/Y4.jpg    \n",
            "  inflating: brain_mri/yes/Y40.JPG   \n",
            "  inflating: brain_mri/yes/Y41.jpg   \n",
            "  inflating: brain_mri/yes/Y42.jpg   \n",
            "  inflating: brain_mri/yes/Y44.JPG   \n",
            "  inflating: brain_mri/yes/Y45.JPG   \n",
            "  inflating: brain_mri/yes/Y46.jpg   \n",
            "  inflating: brain_mri/yes/Y47.JPG   \n",
            "  inflating: brain_mri/yes/Y49.JPG   \n",
            "  inflating: brain_mri/yes/Y50.JPG   \n",
            "  inflating: brain_mri/yes/Y51.jpg   \n",
            "  inflating: brain_mri/yes/Y52.jpg   \n",
            "  inflating: brain_mri/yes/Y53.jpg   \n",
            "  inflating: brain_mri/yes/Y54.jpg   \n",
            "  inflating: brain_mri/yes/Y55.jpg   \n",
            "  inflating: brain_mri/yes/Y56.jpg   \n",
            "  inflating: brain_mri/yes/Y58.JPG   \n",
            "  inflating: brain_mri/yes/Y59.JPG   \n",
            "  inflating: brain_mri/yes/Y6.jpg    \n",
            "  inflating: brain_mri/yes/Y60.jpg   \n",
            "  inflating: brain_mri/yes/Y61.jpg   \n",
            "  inflating: brain_mri/yes/Y62.jpg   \n",
            "  inflating: brain_mri/yes/Y65.JPG   \n",
            "  inflating: brain_mri/yes/Y66.JPG   \n",
            "  inflating: brain_mri/yes/Y67.JPG   \n",
            "  inflating: brain_mri/yes/Y69.jpg   \n",
            "  inflating: brain_mri/yes/Y7.jpg    \n",
            "  inflating: brain_mri/yes/Y70.jpg   \n",
            "  inflating: brain_mri/yes/Y71.JPG   \n",
            "  inflating: brain_mri/yes/Y73.jpg   \n",
            "  inflating: brain_mri/yes/Y74.jpg   \n",
            "  inflating: brain_mri/yes/Y75.JPG   \n",
            "  inflating: brain_mri/yes/Y76.jpg   \n",
            "  inflating: brain_mri/yes/Y77.jpg   \n",
            "  inflating: brain_mri/yes/Y78.jpg   \n",
            "  inflating: brain_mri/yes/Y79.jpg   \n",
            "  inflating: brain_mri/yes/Y8.jpg    \n",
            "  inflating: brain_mri/yes/Y81.jpg   \n",
            "  inflating: brain_mri/yes/Y82.jpg   \n",
            "  inflating: brain_mri/yes/Y85.JPG   \n",
            "  inflating: brain_mri/yes/Y86.JPG   \n",
            "  inflating: brain_mri/yes/Y89.JPG   \n",
            "  inflating: brain_mri/yes/Y9.jpg    \n",
            "  inflating: brain_mri/yes/Y90.jpg   \n",
            "  inflating: brain_mri/yes/Y91.jpg   \n",
            "  inflating: brain_mri/yes/Y92.jpg   \n",
            "  inflating: brain_mri/yes/Y92.png   \n",
            "  inflating: brain_mri/yes/Y95.jpg   \n",
            "  inflating: brain_mri/yes/Y96.jpg   \n",
            "  inflating: brain_mri/yes/Y97.JPG   \n",
            "  inflating: brain_mri/yes/Y98.JPG   \n",
            "  inflating: brain_mri/yes/Y99.JPG   \n"
          ]
        }
      ]
    },
    {
      "cell_type": "code",
      "source": [
        "addr = 'brain_mri/brain_tumor_dataset'\n",
        "train_loader, val_loader = get_data_loader(addr)"
      ],
      "metadata": {
        "colab": {
          "base_uri": "https://localhost:8080/"
        },
        "id": "ZBypj_zlcAAE",
        "outputId": "0d87762c-b84c-41e9-f158-c0610dc168c8"
      },
      "execution_count": 11,
      "outputs": [
        {
          "output_type": "stream",
          "name": "stdout",
          "text": [
            "{'no': 0, 'yes': 1}\n"
          ]
        }
      ]
    },
    {
      "cell_type": "code",
      "source": [
        "model = BrainTumorClassifier()\n",
        "resnet_model = get_resnet_model(num_classes=2)"
      ],
      "metadata": {
        "id": "aHwdynU3ckj5",
        "colab": {
          "base_uri": "https://localhost:8080/"
        },
        "outputId": "79db82ef-a6f2-472b-c1c0-873aa4366838"
      },
      "execution_count": 12,
      "outputs": [
        {
          "output_type": "stream",
          "name": "stderr",
          "text": [
            "/usr/local/lib/python3.11/dist-packages/torchvision/models/_utils.py:208: UserWarning: The parameter 'pretrained' is deprecated since 0.13 and may be removed in the future, please use 'weights' instead.\n",
            "  warnings.warn(\n",
            "/usr/local/lib/python3.11/dist-packages/torchvision/models/_utils.py:223: UserWarning: Arguments other than a weight enum or `None` for 'weights' are deprecated since 0.13 and may be removed in the future. The current behavior is equivalent to passing `weights=ResNet18_Weights.IMAGENET1K_V1`. You can also use `weights=ResNet18_Weights.DEFAULT` to get the most up-to-date weights.\n",
            "  warnings.warn(msg)\n",
            "Downloading: \"https://download.pytorch.org/models/resnet18-f37072fd.pth\" to /root/.cache/torch/hub/checkpoints/resnet18-f37072fd.pth\n",
            "100%|██████████| 44.7M/44.7M [00:00<00:00, 76.7MB/s]\n"
          ]
        }
      ]
    },
    {
      "cell_type": "code",
      "source": [
        "lr = 0.001\n",
        "optimizer = torch.optim.Adam(model.parameters(), lr=lr)\n",
        "scheduler = torch.optim.lr_scheduler.StepLR(optimizer, step_size=10, gamma=0.5)\n",
        "resnet_optimizer = torch.optim.Adam(model.parameters(), lr=lr)\n",
        "resnet_scheduler = torch.optim.lr_scheduler.StepLR(optimizer, step_size=10, gamma=0.5)"
      ],
      "metadata": {
        "id": "a2w8zxMLeLp-"
      },
      "execution_count": 13,
      "outputs": []
    },
    {
      "cell_type": "code",
      "source": [
        "train_and_evaluate(model=model, optimizer=optimizer, scheduler=scheduler, train_loader=train_loader, val_loader=val_loader, num_epochs=7, lr=0.001, log_epoch=2)"
      ],
      "metadata": {
        "colab": {
          "base_uri": "https://localhost:8080/",
          "height": 1000
        },
        "id": "AMmXTYs1ea_D",
        "outputId": "4ad7ab4f-4f3e-4b4b-966e-ece0ba23e668"
      },
      "execution_count": 14,
      "outputs": [
        {
          "output_type": "stream",
          "name": "stdout",
          "text": [
            "Epoch 0/7, Train Loss: 0.8475, Train Accuracy: 0.5891, LR: 0.001000\n",
            "\n",
            "Epoch 1/7, Validation Accuracy: 0.7451\n",
            "Epoch 2/7, Validation Accuracy: 0.7451\n",
            "Epoch 2/7, Train Loss: 0.5440, Train Accuracy: 0.7574, LR: 0.001000\n",
            "\n",
            "Epoch 3/7, Validation Accuracy: 0.7255\n",
            "Epoch 4/7, Validation Accuracy: 0.7059\n",
            "Epoch 4/7, Train Loss: 0.2446, Train Accuracy: 0.8960, LR: 0.001000\n",
            "\n",
            "Epoch 5/7, Validation Accuracy: 0.7451\n",
            "Epoch 6/7, Validation Accuracy: 0.7451\n",
            "Epoch 6/7, Train Loss: 0.1140, Train Accuracy: 0.9505, LR: 0.001000\n",
            "\n",
            "Epoch 7/7, Validation Accuracy: 0.7451\n"
          ]
        },
        {
          "output_type": "display_data",
          "data": {
            "text/plain": [
              "<Figure size 1000x600 with 1 Axes>"
            ],
            "image/png": "[encoded data removed]"
          },
          "metadata": {}
        },
        {
          "output_type": "display_data",
          "data": {
            "text/plain": [
              "<Figure size 1000x600 with 1 Axes>"
            ],
            "image/png": "[encoded data removed]"
          },
          "metadata": {}
        }
      ]
    },
    {
      "cell_type": "code",
      "source": [
        "train_and_evaluate(model=resnet_model, optimizer=resnet_optimizer, scheduler=resnet_scheduler, train_loader=train_loader, val_loader=val_loader, num_epochs=7, lr=0.001, log_epoch=2)"
      ],
      "metadata": {
        "colab": {
          "base_uri": "https://localhost:8080/",
          "height": 1000
        },
        "id": "vnl9ST0VF-SX",
        "outputId": "49ec5442-de5f-4e94-c3cf-7b8a08cefdef"
      },
      "execution_count": 15,
      "outputs": [
        {
          "output_type": "stream",
          "name": "stdout",
          "text": [
            "Epoch 0/7, Train Loss: 0.6819, Train Accuracy: 0.5842, LR: 0.001000\n",
            "\n",
            "Epoch 1/7, Validation Accuracy: 0.5098\n",
            "Epoch 2/7, Validation Accuracy: 0.6667\n",
            "Epoch 2/7, Train Loss: 0.6864, Train Accuracy: 0.5941, LR: 0.001000\n",
            "\n",
            "Epoch 3/7, Validation Accuracy: 0.6275\n",
            "Epoch 4/7, Validation Accuracy: 0.5882\n",
            "Epoch 4/7, Train Loss: 0.6844, Train Accuracy: 0.5891, LR: 0.001000\n",
            "\n",
            "Epoch 5/7, Validation Accuracy: 0.5882\n",
            "Epoch 6/7, Validation Accuracy: 0.6275\n",
            "Epoch 6/7, Train Loss: 0.6845, Train Accuracy: 0.5891, LR: 0.001000\n",
            "\n",
            "Epoch 7/7, Validation Accuracy: 0.6275\n"
          ]
        },
        {
          "output_type": "display_data",
          "data": {
            "text/plain": [
              "<Figure size 1000x600 with 1 Axes>"
            ],
            "image/png": "[encoded data removed]"
          },
          "metadata": {}
        },
        {
          "output_type": "display_data",
          "data": {
            "text/plain": [
              "<Figure size 1000x600 with 1 Axes>"
            ],
            "image/png": "[encoded data removed]"
          },
          "metadata": {}
        }
      ]
    },
    {
      "cell_type": "code",
      "source": [
        "save_model(model=model, optimizer=optimizer, scheduler=scheduler, epoch=7, filepath='set_brain-tumor.pth')"
      ],
      "metadata": {
        "colab": {
          "base_uri": "https://localhost:8080/"
        },
        "id": "fh_byekRe8vw",
        "outputId": "ac8056a2-7043-47b1-990b-5f77e1f4e152"
      },
      "execution_count": 16,
      "outputs": [
        {
          "output_type": "stream",
          "name": "stdout",
          "text": [
            "Model saved to set_brain-tumor.pth\n"
          ]
        }
      ]
    },
    {
      "cell_type": "code",
      "source": [
        "save_model(model=resnet_model, optimizer=resnet_optimizer, scheduler=resnet_scheduler, epoch=7, filepath='resnet_brain-tumor.pth')"
      ],
      "metadata": {
        "colab": {
          "base_uri": "https://localhost:8080/"
        },
        "id": "bAukx7wMGJwD",
        "outputId": "d632cec6-4f7d-4028-ed47-d59f0c85f130"
      },
      "execution_count": 17,
      "outputs": [
        {
          "output_type": "stream",
          "name": "stdout",
          "text": [
            "Model saved to resnet_brain-tumor.pth\n"
          ]
        }
      ]
    },
    {
      "cell_type": "code",
      "source": [
        "!ls"
      ],
      "metadata": {
        "colab": {
          "base_uri": "https://localhost:8080/"
        },
        "id": "vPg0EnlEm7aL",
        "outputId": "101d4d6d-dc11-49aa-dc8d-41dc85d1f989"
      },
      "execution_count": 18,
      "outputs": [
        {
          "output_type": "stream",
          "name": "stdout",
          "text": [
            "brain_mri\t\t\t\t\tmodel.py\t\tretrieve.py\n",
            "brain-mri-images-for-brain-tumor-detection.zip\tpreparation.py\t\tset_brain-tumor.pth\n",
            "evaluate.py\t\t\t\t\tresnet_brain-tumor.pth\tsetting.py\n",
            "kaggle.json\t\t\t\t\tresnet.py\n"
          ]
        }
      ]
    },
    {
      "cell_type": "code",
      "source": [
        "from google.colab import files\n",
        "\n",
        "files.download('set_brain-tumor.pth')"
      ],
      "metadata": {
        "colab": {
          "base_uri": "https://localhost:8080/",
          "height": 17
        },
        "id": "XzmE7xhfm_hx",
        "outputId": "618a9b2b-d9f1-4ff3-cf4c-8fd5be32abf0"
      },
      "execution_count": 19,
      "outputs": [
        {
          "output_type": "display_data",
          "data": {
            "text/plain": [
              "<IPython.core.display.Javascript object>"
            ],
            "application/javascript": [
              "\n",
              "    async function download(id, filename, size) {\n",
              "      if (!google.colab.kernel.accessAllowed) {\n",
              "        return;\n",
              "      }\n",
              "      const div = document.createElement('div');\n",
              "      const label = document.createElement('label');\n",
              "      label.textContent = `Downloading \"${filename}\": `;\n",
              "      div.appendChild(label);\n",
              "      const progress = document.createElement('progress');\n",
              "      progress.max = size;\n",
              "      div.appendChild(progress);\n",
              "      document.body.appendChild(div);\n",
              "\n",
              "      const buffers = [];\n",
              "      let downloaded = 0;\n",
              "\n",
              "      const channel = await google.colab.kernel.comms.open(id);\n",
              "      // Send a message to notify the kernel that we're ready.\n",
              "      channel.send({})\n",
              "\n",
              "      for await (const message of channel.messages) {\n",
              "        // Send a message to notify the kernel that we're ready.\n",
              "        channel.send({})\n",
              "        if (message.buffers) {\n",
              "          for (const buffer of message.buffers) {\n",
              "            buffers.push(buffer);\n",
              "            downloaded += buffer.byteLength;\n",
              "            progress.value = downloaded;\n",
              "          }\n",
              "        }\n",
              "      }\n",
              "      const blob = new Blob(buffers, {type: 'application/binary'});\n",
              "      const a = document.createElement('a');\n",
              "      a.href = window.URL.createObjectURL(blob);\n",
              "      a.download = filename;\n",
              "      div.appendChild(a);\n",
              "      a.click();\n",
              "      div.remove();\n",
              "    }\n",
              "  "
            ]
          },
          "metadata": {}
        },
        {
          "output_type": "display_data",
          "data": {
            "text/plain": [
              "<IPython.core.display.Javascript object>"
            ],
            "application/javascript": [
              "download(\"download_358554d7-109a-462d-8b93-a33a8b6051c7\", \"set_brain-tumor.pth\", 309421886)"
            ]
          },
          "metadata": {}
        }
      ]
    },
    {
      "cell_type": "code",
      "source": [
        "files.download('resnet_brain-tumor.pth')"
      ],
      "metadata": {
        "id": "7O3WZkBwnMi_",
        "colab": {
          "base_uri": "https://localhost:8080/",
          "height": 17
        },
        "outputId": "2a69a36a-f470-4703-dc53-576258c8422c"
      },
      "execution_count": 20,
      "outputs": [
        {
          "output_type": "display_data",
          "data": {
            "text/plain": [
              "<IPython.core.display.Javascript object>"
            ],
            "application/javascript": [
              "\n",
              "    async function download(id, filename, size) {\n",
              "      if (!google.colab.kernel.accessAllowed) {\n",
              "        return;\n",
              "      }\n",
              "      const div = document.createElement('div');\n",
              "      const label = document.createElement('label');\n",
              "      label.textContent = `Downloading \"${filename}\": `;\n",
              "      div.appendChild(label);\n",
              "      const progress = document.createElement('progress');\n",
              "      progress.max = size;\n",
              "      div.appendChild(progress);\n",
              "      document.body.appendChild(div);\n",
              "\n",
              "      const buffers = [];\n",
              "      let downloaded = 0;\n",
              "\n",
              "      const channel = await google.colab.kernel.comms.open(id);\n",
              "      // Send a message to notify the kernel that we're ready.\n",
              "      channel.send({})\n",
              "\n",
              "      for await (const message of channel.messages) {\n",
              "        // Send a message to notify the kernel that we're ready.\n",
              "        channel.send({})\n",
              "        if (message.buffers) {\n",
              "          for (const buffer of message.buffers) {\n",
              "            buffers.push(buffer);\n",
              "            downloaded += buffer.byteLength;\n",
              "            progress.value = downloaded;\n",
              "          }\n",
              "        }\n",
              "      }\n",
              "      const blob = new Blob(buffers, {type: 'application/binary'});\n",
              "      const a = document.createElement('a');\n",
              "      a.href = window.URL.createObjectURL(blob);\n",
              "      a.download = filename;\n",
              "      div.appendChild(a);\n",
              "      a.click();\n",
              "      div.remove();\n",
              "    }\n",
              "  "
            ]
          },
          "metadata": {}
        },
        {
          "output_type": "display_data",
          "data": {
            "text/plain": [
              "<IPython.core.display.Javascript object>"
            ],
            "application/javascript": [
              "download(\"download_1122ef9c-4acd-4ef1-a100-0dd0f9e7fcc9\", \"resnet_brain-tumor.pth\", 44789352)"
            ]
          },
          "metadata": {}
        }
      ]
    }
  ]
}